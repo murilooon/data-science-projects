{
  "nbformat": 4,
  "nbformat_minor": 0,
  "metadata": {
    "colab": {
      "name": "Productivity vs Hours Slept.ipynb",
      "provenance": [],
      "collapsed_sections": [],
      "toc_visible": true,
      "mount_file_id": "1ce11gdKz9v4JCVDaq6T5f7K0_kzuuD_U",
      "authorship_tag": "ABX9TyPvGGZLwwZjOEnOl0sh0ovz",
      "include_colab_link": true
    },
    "kernelspec": {
      "name": "python3",
      "display_name": "Python 3"
    }
  },
  "cells": [
    {
      "cell_type": "markdown",
      "metadata": {
        "id": "view-in-github",
        "colab_type": "text"
      },
      "source": [
        "<a href=\"https://colab.research.google.com/github/murilooon/data-science-projects/blob/main/Productivity_vs_Hours_Slept.ipynb\" target=\"_parent\"><img src=\"https://colab.research.google.com/assets/colab-badge.svg\" alt=\"Open In Colab\"/></a>"
      ]
    },
    {
      "cell_type": "markdown",
      "metadata": {
        "id": "oyUWPhdyjITe"
      },
      "source": [
        "## Open CSV"
      ]
    },
    {
      "cell_type": "code",
      "metadata": {
        "colab": {
          "base_uri": "https://localhost:8080/"
        },
        "id": "nwO_rLOQRxeQ",
        "outputId": "4c7a891c-786f-4441-a751-428af0af10fb"
      },
      "source": [
        "import pandas as pd\n",
        "csv = pd.read_csv('/content/drive/MyDrive/Colab Notebooks/data.csv')\n",
        "print(csv)"
      ],
      "execution_count": 150,
      "outputs": [
        {
          "output_type": "stream",
          "text": [
            "    day start_bed_time end_bed_time  productivity\n",
            "0   1-4          23:59         7:20             5\n",
            "1   1-5          23:45         7:30             4\n",
            "2   1-6          22:30         6:20             2\n",
            "3   1-7          22:00         8:20             3\n",
            "4   1-8          20:00         8:20             5\n",
            "5   1-9          21:00         8:20             4\n",
            "6  1-10          23:50         5:20             1\n"
          ],
          "name": "stdout"
        }
      ]
    },
    {
      "cell_type": "markdown",
      "metadata": {
        "id": "cShoFqvJjr19"
      },
      "source": [
        "## Definiting CSV variables\n"
      ]
    },
    {
      "cell_type": "code",
      "metadata": {
        "id": "GD9mhIQXjmlq"
      },
      "source": [
        "day = csv['day']\n",
        "start_bed_time = csv['start_bed_time']\n",
        "end_bed_time = csv['end_bed_time']\n",
        "productivity = csv['productivity']\n",
        "hours_slept = []"
      ],
      "execution_count": 151,
      "outputs": []
    },
    {
      "cell_type": "markdown",
      "metadata": {
        "id": "96m0r5l7jV9V"
      },
      "source": [
        "## Hours Slept per night\n"
      ]
    },
    {
      "cell_type": "code",
      "metadata": {
        "colab": {
          "base_uri": "https://localhost:8080/"
        },
        "id": "zETXE8M1Uvud",
        "outputId": "ff24df43-9909-4a1c-fdf8-0e1213d2b051"
      },
      "source": [
        "from datetime import datetime, timedelta\n",
        "\n",
        "def parse_date_time(day, time, reduced_days=0):\n",
        "  date_time_str = '2021-' + day  + ' ' + time\n",
        "  date_time_obj = datetime.strptime(date_time_str, '%Y-%m-%d %H:%M')  - timedelta(days=reduced_days)\n",
        "  return date_time_obj\n",
        "\n",
        "for end_day, start, end in zip(day, start_bed_time, end_bed_time):\n",
        "  start_date_time_obj = parse_date_time(end_day, start, 1)\n",
        "  end_date_time_obj = parse_date_time(end_day, end, 0)  \n",
        "\n",
        "  hours = end_date_time_obj - start_date_time_obj \n",
        "  hours_slept.append(hours.total_seconds()/3600)\n",
        "  print(hours_slept)\n"
      ],
      "execution_count": 152,
      "outputs": [
        {
          "output_type": "stream",
          "text": [
            "[7.35]\n",
            "[7.35, 7.75]\n",
            "[7.35, 7.75, 7.833333333333333]\n",
            "[7.35, 7.75, 7.833333333333333, 10.333333333333334]\n",
            "[7.35, 7.75, 7.833333333333333, 10.333333333333334, 12.333333333333334]\n",
            "[7.35, 7.75, 7.833333333333333, 10.333333333333334, 12.333333333333334, 11.333333333333334]\n",
            "[7.35, 7.75, 7.833333333333333, 10.333333333333334, 12.333333333333334, 11.333333333333334, 5.5]\n"
          ],
          "name": "stdout"
        }
      ]
    },
    {
      "cell_type": "markdown",
      "metadata": {
        "id": "W1cBXW1rj7lN"
      },
      "source": [
        "## Average hours slept per productivity"
      ]
    },
    {
      "cell_type": "code",
      "metadata": {
        "colab": {
          "base_uri": "https://localhost:8080/"
        },
        "id": "BRzhFP8fkIVu",
        "outputId": "7b0c4b83-fc95-4627-efd4-aef481ea77db"
      },
      "source": [
        "d = {\n",
        "  \"hours_slept\": pd.Series(hours_slept),\n",
        "  \"productivity\": pd.Series(productivity),\n",
        "}\n",
        "\n",
        "df = pd.DataFrame(d)\n",
        "prod_avg_per_hours_slept = df.groupby('productivity').mean()\n",
        "print(prod_avg_per_hours_slept)"
      ],
      "execution_count": 170,
      "outputs": [
        {
          "output_type": "stream",
          "text": [
            "              hours_slept\n",
            "productivity             \n",
            "1                5.500000\n",
            "2                7.833333\n",
            "3               10.333333\n",
            "4                9.541667\n",
            "5                9.841667\n"
          ],
          "name": "stdout"
        }
      ]
    },
    {
      "cell_type": "markdown",
      "metadata": {
        "id": "U1K443Z9kEtN"
      },
      "source": [
        "## Plotting Graph with Matplotlib"
      ]
    },
    {
      "cell_type": "code",
      "metadata": {
        "colab": {
          "base_uri": "https://localhost:8080/",
          "height": 309
        },
        "id": "Mi0Tl2RreD5n",
        "outputId": "1f336236-4cdf-4a0a-e93a-082313589cc1"
      },
      "source": [
        "from matplotlib import pyplot as plt\n",
        "\n",
        "prod_avg_per_hours_slept.plot(kind=\"bar\")\n",
        "plt.title(\"Productivity vs Hours Slept\")\n",
        "plt.xlabel(\"Productivity\")\n",
        "plt.ylabel(\"Average Hours Slept\")"
      ],
      "execution_count": 154,
      "outputs": [
        {
          "output_type": "execute_result",
          "data": {
            "text/plain": [
              "Text(0, 0.5, 'Average Hours Slept')"
            ]
          },
          "metadata": {
            "tags": []
          },
          "execution_count": 154
        },
        {
          "output_type": "display_data",
          "data": {
            "image/png": "[encoded data removed]",
            "text/plain": [
              "<Figure size 432x288 with 1 Axes>"
            ]
          },
          "metadata": {
            "tags": [],
            "needs_background": "light"
          }
        }
      ]
    },
    {
      "cell_type": "markdown",
      "metadata": {
        "id": "pWxUPGKRv6GO"
      },
      "source": [
        "## Plotting Graph with pyecharts (should run local)"
      ]
    },
    {
      "cell_type": "code",
      "metadata": {
        "id": "b8Ah3ZKtqq5l"
      },
      "source": [
        "!pip install pyecharts==1.7.1"
      ],
      "execution_count": null,
      "outputs": []
    },
    {
      "cell_type": "code",
      "metadata": {
        "id": "yS0OKN7vqEfs"
      },
      "source": [
        "from pyecharts.charts import Bar\n",
        "from pyecharts import options as opts\n",
        "from pyecharts.globals import ThemeType\n",
        "\n",
        "productivity = prod_avg_per_hours_slept.index.values.tolist()\n",
        "avg_hours_slept = prod_avg_per_hours_slept['hours_slept'].values.tolist()\n",
        "\n",
        "bar = (\n",
        " Bar(init_opts=opts.InitOpts(theme=ThemeType.DARK))\n",
        " .add_xaxis(productivity)\n",
        " .add_yaxis('Average Hours Slept', avg_hours_slept)\n",
        " .set_global_opts(title_opts=opts.TitleOpts(title='Productivity vs Hours Slept'))\n",
        ")\n",
        "\n",
        "bar.render()"
      ],
      "execution_count": null,
      "outputs": []
    },
    {
      "cell_type": "markdown",
      "metadata": {
        "id": "f-lXNOviwC0D"
      },
      "source": [
        "![download (1).png](data:image/png;base64,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)"
      ]
    }
  ]
}